{
  "nbformat": 4,
  "nbformat_minor": 0,
  "metadata": {
    "colab": {
      "provenance": [],
      "authorship_tag": "ABX9TyN04CbbP98NEYmrX/qWPp4L",
      "include_colab_link": true
    },
    "kernelspec": {
      "name": "python3",
      "display_name": "Python 3"
    },
    "language_info": {
      "name": "python"
    }
  },
  "cells": [
    {
      "cell_type": "markdown",
      "metadata": {
        "id": "view-in-github",
        "colab_type": "text"
      },
      "source": [
        "<a href=\"https://colab.research.google.com/github/Stefi-T/DataScience-Lab/blob/main/cnn.ipynb\" target=\"_parent\"><img src=\"https://colab.research.google.com/assets/colab-badge.svg\" alt=\"Open In Colab\"/></a>"
      ]
    },
    {
      "cell_type": "code",
      "execution_count": 35,
      "metadata": {
        "id": "kuOneU-khTGk"
      },
      "outputs": [],
      "source": [
        "import pandas as pd\n",
        "import numpy as np\n",
        "import matplotlib.pyplot as plt\n",
        "import seaborn as sns\n",
        "import tensorflow as tf"
      ]
    },
    {
      "cell_type": "code",
      "source": [
        "mn=keras.datasets.mnist"
      ],
      "metadata": {
        "id": "BKBn7S5d4AmS"
      },
      "execution_count": 36,
      "outputs": []
    },
    {
      "cell_type": "code",
      "source": [
        "(x_train,y_train),(x_test,y_test)=mn.load_data()"
      ],
      "metadata": {
        "id": "YYj5GoAn51aj"
      },
      "execution_count": 37,
      "outputs": []
    },
    {
      "cell_type": "code",
      "source": [
        "print(x_train.shape)"
      ],
      "metadata": {
        "colab": {
          "base_uri": "https://localhost:8080/"
        },
        "id": "sbD8RoSV6OMY",
        "outputId": "19b1cbcd-66ef-4d4c-c762-f430f9876d8c"
      },
      "execution_count": 38,
      "outputs": [
        {
          "output_type": "stream",
          "name": "stdout",
          "text": [
            "(60000, 28, 28)\n"
          ]
        }
      ]
    },
    {
      "cell_type": "code",
      "source": [
        "x_train=x_train.reshape((60000,28,28,1))"
      ],
      "metadata": {
        "id": "3ZSLGSvp8E84"
      },
      "execution_count": 40,
      "outputs": []
    },
    {
      "cell_type": "code",
      "source": [
        "x_test=x_test.reshape((10000,28,28,1))"
      ],
      "metadata": {
        "id": "SL54AbJr8P4F"
      },
      "execution_count": 41,
      "outputs": []
    },
    {
      "cell_type": "code",
      "source": [
        "x_train=x_train.astype('float32')/255"
      ],
      "metadata": {
        "id": "PFCtq7IL8t9J"
      },
      "execution_count": 42,
      "outputs": []
    },
    {
      "cell_type": "code",
      "source": [
        "x_test=x_test.astype('float32')/255"
      ],
      "metadata": {
        "id": "zVRIIqsE81VD"
      },
      "execution_count": 43,
      "outputs": []
    },
    {
      "cell_type": "code",
      "source": [
        "cnnmodel_mnist=keras.models.Sequential()"
      ],
      "metadata": {
        "id": "71zLy-nQBWLq"
      },
      "execution_count": 61,
      "outputs": []
    },
    {
      "cell_type": "code",
      "source": [
        "cnnmodel_mnist.add(keras.layers.Conv2D(32,(3,3),activation=\"relu\",input_shape=x_train.shape[1:]))"
      ],
      "metadata": {
        "id": "8RE5l6o47QmA"
      },
      "execution_count": 55,
      "outputs": []
    },
    {
      "cell_type": "code",
      "source": [
        "cnnmodel_mnist.add(keras.layers.Conv2D(32,(3,3),activation='relu'))"
      ],
      "metadata": {
        "id": "PMkGoE3j8o2I"
      },
      "execution_count": 56,
      "outputs": []
    },
    {
      "cell_type": "code",
      "source": [
        "cnnmodel_mnist.add(keras.layers.MaxPooling2D((2,2)))"
      ],
      "metadata": {
        "id": "REYd0NDD77gL"
      },
      "execution_count": 57,
      "outputs": []
    },
    {
      "cell_type": "code",
      "source": [
        "cnnmodel_mnist.add(keras.layers.Dropout(0.25))"
      ],
      "metadata": {
        "id": "NMpwunG09tBS"
      },
      "execution_count": 58,
      "outputs": []
    },
    {
      "cell_type": "code",
      "source": [
        "cnnmodel_mnist.add(keras.layers.Flatten())"
      ],
      "metadata": {
        "id": "VyNLAoDR9ymI"
      },
      "execution_count": 59,
      "outputs": []
    },
    {
      "cell_type": "code",
      "source": [
        "cnnmodel_mnist.add(keras.layers.Dense(128,activation=\"relu\"))\n",
        "cnnmodel_mnist.add(keras.layers.Dropout(0.25))\n",
        "cnnmodel_mnist.add(keras.layers.Dense(10,activation=\"softmax\"))\n",
        "cnnmodel_mnist.summary()\n",
        "cnnmodel_mnist.compile(loss = 'sparse_categorical_crossentropy',optimizer='adam',metrics=['accuracy'])\n",
        "cnnmodel_mnist.fit(x_train,y_train,epochs=1,batch_size=16)\n"
      ],
      "metadata": {
        "colab": {
          "base_uri": "https://localhost:8080/"
        },
        "id": "HR2upzi198_x",
        "outputId": "d8afa2f4-63ac-4272-bf46-4678a1ed8411"
      },
      "execution_count": 60,
      "outputs": [
        {
          "output_type": "stream",
          "name": "stdout",
          "text": [
            "Model: \"sequential_2\"\n",
            "_________________________________________________________________\n",
            " Layer (type)                Output Shape              Param #   \n",
            "=================================================================\n",
            " conv2d_8 (Conv2D)           (None, 26, 26, 32)        320       \n",
            "                                                                 \n",
            " conv2d_9 (Conv2D)           (None, 24, 24, 32)        9248      \n",
            "                                                                 \n",
            " max_pooling2d_2 (MaxPooling  (None, 12, 12, 32)       0         \n",
            " 2D)                                                             \n",
            "                                                                 \n",
            " dropout_5 (Dropout)         (None, 12, 12, 32)        0         \n",
            "                                                                 \n",
            " flatten_2 (Flatten)         (None, 4608)              0         \n",
            "                                                                 \n",
            " dense_6 (Dense)             (None, 128)               589952    \n",
            "                                                                 \n",
            " dropout_6 (Dropout)         (None, 128)               0         \n",
            "                                                                 \n",
            " dense_7 (Dense)             (None, 10)                1290      \n",
            "                                                                 \n",
            "=================================================================\n",
            "Total params: 600,810\n",
            "Trainable params: 600,810\n",
            "Non-trainable params: 0\n",
            "_________________________________________________________________\n",
            "3750/3750 [==============================] - 143s 38ms/step - loss: 0.1430 - accuracy: 0.9557\n"
          ]
        },
        {
          "output_type": "execute_result",
          "data": {
            "text/plain": [
              "<keras.callbacks.History at 0x7f87c2924ac0>"
            ]
          },
          "metadata": {},
          "execution_count": 60
        }
      ]
    }
  ]
}